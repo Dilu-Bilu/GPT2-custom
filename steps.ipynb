{
 "cells": [
  {
   "cell_type": "markdown",
   "metadata": {},
   "source": [
    "#### Steps to take when uploading your instance to Lambda Labs "
   ]
  },
  {
   "cell_type": "markdown",
   "metadata": {},
   "source": [
    "1. Upload all of your data to the website. Here is the using:\n",
    "\n",
    "`scp -i \"C:path/to/your/key.pem\" -r  (instance name):/home/ubuntu/gpt2-files/`\n"
   ]
  },
  {
   "cell_type": "markdown",
   "metadata": {},
   "source": [
    "2. Connect to the instance and check what GPU cluster you are using. \n",
    "\n",
    "`ssh -i \"path/to/your/key.pem\" ubuntu@lambdasomething`\n",
    "`nvidia-smi`"
   ]
  },
  {
   "cell_type": "markdown",
   "metadata": {},
   "source": []
  }
 ],
 "metadata": {
  "language_info": {
   "name": "python"
  }
 },
 "nbformat": 4,
 "nbformat_minor": 2
}
